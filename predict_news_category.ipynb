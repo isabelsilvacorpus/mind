{
 "cells": [
  {
   "cell_type": "code",
   "execution_count": 1,
   "metadata": {},
   "outputs": [],
   "source": [
    "import sys\n",
    "sys.path.append('/Users/isabelcorpus/.pyenv/versions/3.9.0/lib/python3.9/site-packages')\n",
    "import pandas as pd\n",
    "import numpy as np \n",
    "import matplotlib as plt\n",
    "import seaborn as sns\n",
    "from sklearn.manifold import TSNE\n",
    "from sklearn.model_selection import train_test_split\n",
    "from analysis_helper import *\n",
    "import torch\n",
    "import json\n",
    "import seaborn as sns\n",
    "import torch \n",
    "import torch.nn as nn\n",
    "import torch.optim as optim\n",
    "from torch.utils.data import Dataset, DataLoader\n",
    "from torcheval.metrics import MulticlassAccuracy\n",
    "from sentence_transformers import SentenceTransformer"
   ]
  },
  {
   "cell_type": "markdown",
   "metadata": {},
   "source": [
    "In this notebook we complete the following tasks: \n",
    "- Load data from .vec and .tsv files \n",
    "- Process data for use \n",
    "- Create mean pooled Wikidata Knowledge Graph entity embeddings (100d) at the news item level \n",
    "- Generate news title embeddings using pretrained SBERT model (384d)\n",
    "- Predict news category through three simple networks of similar architecture, such that we may compare performance when using entity embeddings, sbert embeddings, and a concatenation of both sources as input (484d).\n",
    "\n",
    "I find that the test accuracy for the third case has the best performance, implying that there is information to be gained beyond the sbert sentence embeddings. In future work, it would be interesting to explore performance by category or the linguistic features/Wiki entities that contribute most heavily to each prediction. "
   ]
  },
  {
   "cell_type": "code",
   "execution_count": 2,
   "metadata": {},
   "outputs": [
    {
     "name": "stderr",
     "output_type": "stream",
     "text": [
      "/Users/isabelcorpus/sample_project/mind/analysis_helper/preprocessing.py:28: FutureWarning: A value is trying to be set on a copy of a DataFrame or Series through chained assignment using an inplace method.\n",
      "The behavior will change in pandas 3.0. This inplace method will never work because the intermediate object on which we are setting values always behaves as a copy.\n",
      "\n",
      "For example, when doing 'df[col].method(value, inplace=True)', try using 'df.method({col: value}, inplace=True)' or df[col] = df[col].method(value) instead, to perform the operation inplace on the original object.\n",
      "\n",
      "\n",
      "  df[col_i].fillna('{}', inplace=True)\n"
     ]
    }
   ],
   "source": [
    "# Prepare data: \n",
    "# load files, normalize embeddings, preprocess for analysis and modeling \n",
    "news = pd.read_csv(\"data/MINDsmall_train/news.tsv\", sep='\\t', \n",
    "                   names = [\"news_id\", \"category\", \"subcategory\", \"title\", \"abstract\", \"url\", \"title_entities\", \"abstract_entities\"])\n",
    "news = process_tsv(news, ['title_entities', 'abstract_entities'])\n",
    "\n",
    "entity_id, entity_vec = load_embeddings('data/MINDsmall_train/entity_embedding.vec')\n",
    "relation_id, relation_vec = load_embeddings('data/MINDsmall_train/relation_embedding.vec')\n",
    "\n",
    "entity_vec = normalize(entity_vec)\n",
    "\n",
    "# extract WikiData Knowledge Graph entity IDs for title and abstract\n",
    "news['title_entity_ids'] = extract_entity_list(news, 'title_entities', 'WikidataId')\n",
    "news['abstract_entity_ids'] = extract_entity_list(news, 'abstract_entities', 'WikidataId')\n",
    "\n",
    "# mean pool entity embeddings to create news embeddings  \n",
    "news_embeddings = mean_pooled_news_embeddings(entity_vec, entity_id, news, \"title_entity_ids\")"
   ]
  },
  {
   "cell_type": "code",
   "execution_count": 4,
   "metadata": {},
   "outputs": [],
   "source": [
    "# Generate sentence-bert embeddings using pretrained SBERT model \n",
    "# load pre-trained sbert \n",
    "sbert = SentenceTransformer('all-MiniLM-L6-v2')\n",
    "title_embeddings = sbert.encode(np.vstack(news.title).flatten())\n",
    "\n",
    "# join embeddings with news metadata \n",
    "title_embedding_df = pd.DataFrame(zip(news.news_id, title_embeddings), columns = [\"news_id\", \"title_embedding\"])\n",
    "news_title_entity = pd.merge(title_embedding_df, news_embeddings, how = \"inner\", on = \"news_id\")"
   ]
  },
  {
   "cell_type": "code",
   "execution_count": 5,
   "metadata": {},
   "outputs": [],
   "source": [
    "# recode category field as integer, create Dataset and load into DataLoader for training \n",
    "news_embeddings['Numerical_Category'] = cat_to_int(news_embeddings, \"category\")\n",
    "\n",
    "# assign weights to each class to account for imbalance in loss fn \n",
    "weights = torch.tensor(list(1 - news_embeddings.Numerical_Category.value_counts().sort_index()/len(news_embeddings)))\n",
    "\n",
    "# create Dataset for which each X - pooled entity embeddings, y - category of news\n",
    "news_dataset = NewsDataset(np.vstack(news_embeddings.entity_vec), news_embeddings['Numerical_Category'])\n",
    "\n",
    "# split 0.8 training, 0.2 test \n",
    "train_dataset, test_dataset = test_training_split(news_dataset, 0.8)\n",
    "loader = DataLoader(train_dataset, shuffle=True, batch_size = 10)\n",
    "test_loader = DataLoader(test_dataset, shuffle=True)"
   ]
  },
  {
   "cell_type": "code",
   "execution_count": 32,
   "metadata": {},
   "outputs": [
    {
     "name": "stdout",
     "output_type": "stream",
     "text": [
      "epoch: 0, training loss: 6918.407646417618, training accuracy: 0.5401629209518433\n",
      "epoch: 1, training loss: 6715.028743863106, training accuracy: 0.6223741173744202\n",
      "epoch: 2, training loss: 6670.079519748688, training accuracy: 0.6316994428634644\n",
      "epoch: 3, training loss: 6638.904370546341, training accuracy: 0.6391395330429077\n",
      "epoch: 4, training loss: 6616.911562800407, training accuracy: 0.6447616219520569\n",
      "epoch: 5, training loss: 6596.905938267708, training accuracy: 0.6483638286590576\n",
      "epoch: 6, training loss: 6578.543019890785, training accuracy: 0.6502491235733032\n",
      "epoch: 7, training loss: 6566.764093637466, training accuracy: 0.6522690653800964\n",
      "epoch: 8, training loss: 6552.1642454862595, training accuracy: 0.6546593308448792\n",
      "epoch: 9, training loss: 6540.041749000549, training accuracy: 0.6555683016777039\n",
      "epoch: 10, training loss: 6530.636615276337, training accuracy: 0.6564099192619324\n",
      "epoch: 11, training loss: 6520.210317611694, training accuracy: 0.6570832133293152\n",
      "epoch: 12, training loss: 6509.806337594986, training accuracy: 0.6585308313369751\n",
      "epoch: 13, training loss: 6500.829562187195, training accuracy: 0.6594398021697998\n",
      "epoch: 14, training loss: 6491.6199679374695, training accuracy: 0.6595744490623474\n",
      "epoch: 15, training loss: 6482.943824052811, training accuracy: 0.6603150963783264\n",
      "epoch: 16, training loss: 6475.210930228233, training accuracy: 0.6614260673522949\n",
      "epoch: 17, training loss: 6467.019938707352, training accuracy: 0.664152979850769\n",
      "epoch: 18, training loss: 6460.657493114471, training accuracy: 0.6642203330993652\n",
      "epoch: 19, training loss: 6452.523126602173, training accuracy: 0.6645906567573547\n"
     ]
    },
    {
     "data": {
      "text/plain": [
       "(tensor(0.6478), 16258.88407254219)"
      ]
     },
     "execution_count": 32,
     "metadata": {},
     "output_type": "execute_result"
    }
   ],
   "source": [
    "# simple sequential NN to predict news category  \n",
    "model = multiclass_classifier()\n",
    "loss_fn = nn.CrossEntropyLoss(weight=weights) \n",
    "optimizer = optim.Adam(model.parameters(), lr=0.001) \n",
    "\n",
    "trained_model, train_acc, train_loss = train_model(model, loss_fn, optimizer, 20, loader)\n",
    "validate_model(trained_model, loss_fn, test_loader)"
   ]
  },
  {
   "cell_type": "code",
   "execution_count": 33,
   "metadata": {},
   "outputs": [],
   "source": [
    "# Use SBERT embeddings as input to NN, compare results \n",
    "news_title_entity['Numerical_Category'] = cat_to_int(news_title_entity, \"category\")\n",
    "news_title_entity_ds = NewsDataset(np.vstack(news_title_entity.title_embedding), news_title_entity['Numerical_Category'])\n",
    "sbert_train_dataset, sbert_test_dataset = test_training_split(news_title_entity_ds, 0.8)\n",
    "sbert_loader = DataLoader(sbert_train_dataset, shuffle=True, batch_size = 10)\n",
    "sbert_test_loader = DataLoader(sbert_test_dataset, shuffle=True)"
   ]
  },
  {
   "cell_type": "code",
   "execution_count": 34,
   "metadata": {},
   "outputs": [
    {
     "name": "stdout",
     "output_type": "stream",
     "text": [
      "epoch: 0, training loss: 6477.412103056908, training accuracy: 0.6004241704940796\n",
      "epoch: 1, training loss: 6238.686894536018, training accuracy: 0.7168731689453125\n",
      "epoch: 2, training loss: 6199.517315745354, training accuracy: 0.7342782020568848\n",
      "epoch: 3, training loss: 6173.627158045769, training accuracy: 0.7369041442871094\n",
      "epoch: 4, training loss: 6151.771329283714, training accuracy: 0.7405399680137634\n",
      "epoch: 5, training loss: 6133.178672194481, training accuracy: 0.7431322336196899\n",
      "epoch: 6, training loss: 6117.650912761688, training accuracy: 0.7486533522605896\n",
      "epoch: 7, training loss: 6102.00263261795, training accuracy: 0.748788058757782\n",
      "epoch: 8, training loss: 6087.744012594223, training accuracy: 0.7533329129219055\n"
     ]
    }
   ],
   "source": [
    "# sbert model; out performs mean pooled entity embeddings \n",
    "model = multiclass_classifier_title()\n",
    "loss_fn = nn.CrossEntropyLoss() \n",
    "optimizer = optim.Adam(model.parameters(), lr=0.001) \n",
    "\n",
    "trained_model_sbert, train_acc, train_loss = train_model(model, loss_fn, optimizer, 20, sbert_loader)\n",
    "validate_model(trained_model_sbert, loss_fn, sbert_test_loader)"
   ]
  },
  {
   "cell_type": "code",
   "execution_count": null,
   "metadata": {},
   "outputs": [],
   "source": [
    "# Re-train simple NN with different set of inputs: concatenate pooled entity vectors with SBERT embedding  of title\n",
    "concat_embeddings = np.concatenate((np.vstack(news_title_entity.title_embedding), np.vstack(news_title_entity.entity_vec)), axis = 1)\n"
   ]
  },
  {
   "cell_type": "code",
   "execution_count": null,
   "metadata": {},
   "outputs": [
    {
     "name": "stdout",
     "output_type": "stream",
     "text": [
      "epoch: 0, training loss: 6410.004061818123, training accuracy: 0.6733099818229675\n",
      "epoch: 1, training loss: 6195.830601334572, training accuracy: 0.7362307906150818\n",
      "epoch: 2, training loss: 6151.97735273838, training accuracy: 0.7497979998588562\n",
      "epoch: 3, training loss: 6123.590398550034, training accuracy: 0.7585510611534119\n",
      "epoch: 4, training loss: 6100.781435251236, training accuracy: 0.7637692093849182\n",
      "epoch: 5, training loss: 6081.750968575478, training accuracy: 0.7672030925750732\n",
      "epoch: 6, training loss: 6066.967938423157, training accuracy: 0.7695260047912598\n",
      "epoch: 7, training loss: 6053.284987807274, training accuracy: 0.7716805934906006\n",
      "epoch: 8, training loss: 6039.591368317604, training accuracy: 0.7746095061302185\n",
      "epoch: 9, training loss: 6029.131922364235, training accuracy: 0.778144359588623\n",
      "epoch: 10, training loss: 6018.243043541908, training accuracy: 0.7795583009719849\n",
      "epoch: 11, training loss: 6010.226933002472, training accuracy: 0.7813088893890381\n",
      "epoch: 12, training loss: 6001.345991015434, training accuracy: 0.7856854200363159\n",
      "epoch: 13, training loss: 5994.473501443863, training accuracy: 0.7865607142448425\n",
      "epoch: 14, training loss: 5988.181946635246, training accuracy: 0.7891866564750671\n",
      "epoch: 15, training loss: 5981.754930853844, training accuracy: 0.7901629209518433\n",
      "epoch: 16, training loss: 5976.587954282761, training accuracy: 0.793293833732605\n",
      "epoch: 17, training loss: 5972.120781540871, training accuracy: 0.794775128364563\n",
      "epoch: 18, training loss: 5966.424267292023, training accuracy: 0.7976366877555847\n",
      "epoch: 19, training loss: 5963.052865982056, training accuracy: 0.799892246723175\n"
     ]
    },
    {
     "data": {
      "text/plain": [
       "(tensor(0.7638), 15566.95414686203)"
      ]
     },
     "execution_count": 109,
     "metadata": {},
     "output_type": "execute_result"
    }
   ],
   "source": [
    "# predicting category with concatenated embeddings (entity; title sbert) provides best training, test accuracy, hooray!\n",
    "news_title_entity_ds = NewsDataset(concat_embeddings, news_title_entity['Numerical_Category'])\n",
    "concat_train_dataset, concat_test_dataset = test_training_split(news_title_entity_ds, 0.8)\n",
    "concat_loader = DataLoader(concat_train_dataset, shuffle = True, batch_size = 10)\n",
    "concat_test_loader = DataLoader(concat_test_dataset, shuffle = True)\n",
    "\n",
    "model = multiclass_classifier_concat()\n",
    "loss_fn = nn.CrossEntropyLoss() \n",
    "optimizer = optim.Adam(model.parameters(), lr=0.001) \n",
    "\n",
    "trained_model_concat, train_acc, train_loss = train_model(model, loss_fn, optimizer, 20, concat_loader)\n",
    "validate_model(trained_model_concat, loss_fn, concat_test_loader)"
   ]
  },
  {
   "cell_type": "code",
   "execution_count": null,
   "metadata": {},
   "outputs": [],
   "source": []
  }
 ],
 "metadata": {
  "kernelspec": {
   "display_name": "sample_proj_env",
   "language": "python",
   "name": "python3"
  },
  "language_info": {
   "codemirror_mode": {
    "name": "ipython",
    "version": 3
   },
   "file_extension": ".py",
   "mimetype": "text/x-python",
   "name": "python",
   "nbconvert_exporter": "python",
   "pygments_lexer": "ipython3",
   "version": "3.9.0"
  }
 },
 "nbformat": 4,
 "nbformat_minor": 2
}
